{
 "cells": [
  {
   "cell_type": "code",
   "execution_count": null,
   "id": "65ad7639",
   "metadata": {},
   "outputs": [],
   "source": [
    "import cv2\n",
    "import matplotlib.pyplot as plt\n",
    "import numpy as np"
   ]
  },
  {
   "cell_type": "code",
   "execution_count": null,
   "id": "c9817418",
   "metadata": {},
   "outputs": [],
   "source": [
    "#myimage= cv2.imread(\"paint.png\")"
   ]
  },
  {
   "cell_type": "code",
   "execution_count": null,
   "id": "173117fc",
   "metadata": {},
   "outputs": [],
   "source": [
    "# Create a blank image with white background\n",
    "width, height =805,700\n",
    "myimage = np.ones((height, width, 3), dtype=np.uint8) * 255\n"
   ]
  },
  {
   "cell_type": "code",
   "execution_count": null,
   "id": "03e06dee",
   "metadata": {},
   "outputs": [],
   "source": [
    "myimage.shape"
   ]
  },
  {
   "cell_type": "code",
   "execution_count": null,
   "id": "76eab1f6",
   "metadata": {},
   "outputs": [],
   "source": [
    "plt.imshow(myimage)"
   ]
  },
  {
   "cell_type": "code",
   "execution_count": null,
   "id": "294c2588",
   "metadata": {},
   "outputs": [],
   "source": [
    "myimage[1:225] = [51,153,253]         #for row \n",
    "myimage[225:470] = [255,255,255]\n",
    "myimage[470:800]=[8,136,19]\n",
    "#myimage[355:360,290:510]=[128,0,0]\n",
    "#myimage[250:470,400:405]=[128,0,0]\n"
   ]
  },
  {
   "cell_type": "code",
   "execution_count": null,
   "id": "100a159e",
   "metadata": {},
   "outputs": [],
   "source": [
    "center=(400,350)\n",
    "radius=120\n",
    "color=[128,0,0]\n",
    "thickness=8\n",
    "cv2.circle(myimage, center, radius, color, thickness)"
   ]
  },
  {
   "cell_type": "code",
   "execution_count": null,
   "id": "655815c5",
   "metadata": {},
   "outputs": [],
   "source": []
  },
  {
   "cell_type": "code",
   "execution_count": null,
   "id": "5b6a2dd6",
   "metadata": {},
   "outputs": [],
   "source": [
    "# Calculate the dimensions of the flag\n",
    "stripe_height = height //2\n",
    "ashoka_chakra_radius = stripe_height //3\n"
   ]
  },
  {
   "cell_type": "code",
   "execution_count": null,
   "id": "e8689a24",
   "metadata": {},
   "outputs": [],
   "source": [
    "#Draw the Ashoka Chakra (Navy Blue Circle)\n",
    "center_x = width //2\n",
    "center_y = stripe_height \n",
    "center = (center_x, center_y)\n",
    "cv2.circle(myimage, center, ashoka_chakra_radius,[255,255,255],-1)"
   ]
  },
  {
   "cell_type": "code",
   "execution_count": null,
   "id": "3801de48",
   "metadata": {},
   "outputs": [],
   "source": [
    "num_lines = 24\n",
    "angle = 0\n",
    "angle_increment = 360 // num_lines\n",
    "\n",
    "for _ in range(num_lines):\n",
    "    end_x = int(center_x + ashoka_chakra_radius * np.cos(np.deg2rad(angle)))\n",
    "    end_y = int(center_y + ashoka_chakra_radius * np.sin(np.deg2rad(angle)))\n",
    "    cv2.line(myimage, center, (end_x, end_y), [128,0,0], thickness=3)\n",
    "    angle += angle_increment\n"
   ]
  },
  {
   "cell_type": "code",
   "execution_count": null,
   "id": "89d8c7b7",
   "metadata": {},
   "outputs": [],
   "source": [
    "cv2.imshow(\"myimage\",myimage)\n",
    "cv2.waitKey()\n",
    "cv2.destroyAllWindows()"
   ]
  },
  {
   "cell_type": "code",
   "execution_count": null,
   "id": "57a086f3",
   "metadata": {},
   "outputs": [],
   "source": []
  },
  {
   "cell_type": "code",
   "execution_count": null,
   "id": "40218f4a",
   "metadata": {},
   "outputs": [],
   "source": [
    "import cv2\n",
    "import matplotlib.pyplot as plt\n",
    "import numpy as np\n",
    "# Create a blank image with white background\n",
    "width, height =805,700\n",
    "myimage = np.ones((height, width, 3), dtype=np.uint8) * 255\n",
    "myimage[1:225] = [51,153,253]         #for row \n",
    "myimage[225:470] = [255,255,255]\n",
    "myimage[470:800]=[8,136,19]\n",
    "center=(400,350)\n",
    "radius=120\n",
    "color=[128,0,0]\n",
    "thickness=8\n",
    "cv2.circle(myimage, center, radius, color, thickness)\n",
    "# Calculate the dimensions of the flag\n",
    "stripe_height = height //2\n",
    "ashoka_chakra_radius = stripe_height //3\n",
    "#Draw the Ashoka Chakra (Navy Blue Circle)\n",
    "center_x = width //2\n",
    "center_y = stripe_height \n",
    "center = (center_x, center_y)\n",
    "cv2.circle(myimage, center, ashoka_chakra_radius,[255,255,255],-1)\n",
    "num_lines = 24\n",
    "angle = 0\n",
    "angle_increment = 360 // num_lines\n",
    "for _ in range(num_lines):\n",
    "    end_x = int(center_x + ashoka_chakra_radius * np.cos(np.deg2rad(angle)))\n",
    "    end_y = int(center_y + ashoka_chakra_radius * np.sin(np.deg2rad(angle)))\n",
    "    cv2.line(myimage, center, (end_x, end_y), [128,0,0], thickness=3)\n",
    "    angle += angle_increment\n",
    "cv2.imshow(\"myimage\",myimage)\n",
    "cv2.waitKey()\n",
    "cv2.destroyAllWindows()"
   ]
  },
  {
   "cell_type": "code",
   "execution_count": null,
   "id": "3004f5db",
   "metadata": {},
   "outputs": [],
   "source": []
  }
 ],
 "metadata": {
  "kernelspec": {
   "display_name": "Python 3 (ipykernel)",
   "language": "python",
   "name": "python3"
  },
  "language_info": {
   "codemirror_mode": {
    "name": "ipython",
    "version": 3
   },
   "file_extension": ".py",
   "mimetype": "text/x-python",
   "name": "python",
   "nbconvert_exporter": "python",
   "pygments_lexer": "ipython3",
   "version": "3.9.13"
  }
 },
 "nbformat": 4,
 "nbformat_minor": 5
}
